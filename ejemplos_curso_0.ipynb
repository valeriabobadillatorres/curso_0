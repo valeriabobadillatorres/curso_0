{
  "nbformat": 4,
  "nbformat_minor": 0,
  "metadata": {
    "colab": {
      "provenance": [],
      "authorship_tag": "ABX9TyPQJDpgUuEKfVF+0Z8Pe43C",
      "include_colab_link": true
    },
    "kernelspec": {
      "name": "python3",
      "display_name": "Python 3"
    },
    "language_info": {
      "name": "python"
    }
  },
  "cells": [
    {
      "cell_type": "markdown",
      "metadata": {
        "id": "view-in-github",
        "colab_type": "text"
      },
      "source": [
        "<a href=\"https://colab.research.google.com/github/valeriabobadillatorres/curso_0/blob/main/ejemplos_curso_0.ipynb\" target=\"_parent\"><img src=\"https://colab.research.google.com/assets/colab-badge.svg\" alt=\"Open In Colab\"/></a>"
      ]
    },
    {
      "cell_type": "markdown",
      "source": [
        "# Los sentidos\n",
        "\n",
        "#### El olfato y el oído son los sentidos más desarrollados en el perro. Los caninos pueden detectar sonidos que son inaudibles para el ser humano, además de ser capaces de distinguir aromas que aparecen en una concentración unas cien millones de veces más pequeña que aquellas que captan las personas. Gracias a estas características, los perros pueden ayudar al hombre a detectar drogas o explosivos a través de su olfato.\n",
        "\n",
        "#  Definición de Perro Pug\n",
        "\n",
        "> El perro es un **animal sociable** que disfruta la compañía de las personas.\n",
        "El perro es un animal mamífero y cuadrúpedo que fue domesticado hace unos 10.000 años y que, actualmente, convive con el hombre como una mascota. Su nombre científico es Canis lupus familiaris.\n",
        "\n",
        "\n",
        "> # +100 razas"
      ],
      "metadata": {
        "id": "WgKujiACoADQ"
      }
    },
    {
      "cell_type": "markdown",
      "source": [
        "![perro pug](https://ichef.bbci.co.uk/ace/ws/640/cpsprodpb/15665/production/_107435678_perro1.jpg.webp)\n"
      ],
      "metadata": {
        "id": "p4LudCCrq0cw"
      }
    },
    {
      "cell_type": "code",
      "source": [],
      "metadata": {
        "id": "D4Mq2CrKoZwD"
      },
      "execution_count": null,
      "outputs": []
    }
  ]
}